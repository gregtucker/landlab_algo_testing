{
 "cells": [
  {
   "cell_type": "markdown",
   "metadata": {},
   "source": [
    "*This notebook contains a sketch and examples of an approach to calculating flux divergence, using a simple diffusion problem as an example.*"
   ]
  },
  {
   "cell_type": "markdown",
   "metadata": {},
   "source": [
    "# Raster grid example: faces and cells"
   ]
  },
  {
   "cell_type": "markdown",
   "metadata": {},
   "source": [
    "Let's suppose we want to create a diffusion model with a raster grid, in which we compute gradients in a field, then flux based on gradient, and finally divergence of flux. Start by creating a small raster grid:"
   ]
  },
  {
   "cell_type": "code",
   "execution_count": 141,
   "metadata": {
    "collapsed": true
   },
   "outputs": [],
   "source": [
    "from landlab import RasterModelGrid\n",
    "import numpy as np"
   ]
  },
  {
   "cell_type": "code",
   "execution_count": 142,
   "metadata": {
    "collapsed": false,
    "scrolled": true
   },
   "outputs": [],
   "source": [
    "rg = RasterModelGrid(3, 4, 10.0)\n",
    "z = rg.add_zeros('node', 'topographic__elevation')\n",
    "rg.set_closed_boundaries_at_grid_edges(True, True, False, False)\n",
    "#rg.set_closed_nodes([3, 7, 8, 9, 10, 11])"
   ]
  },
  {
   "cell_type": "code",
   "execution_count": 143,
   "metadata": {
    "collapsed": false
   },
   "outputs": [
    {
     "name": "stdout",
     "output_type": "stream",
     "text": [
      "[  0.   0.   0.   0.   0.  50.  36.   0.   0.   0.   0.   0.]\n"
     ]
    }
   ],
   "source": [
    "z[5] = 50.\n",
    "z[6] = 36.\n",
    "print(z)"
   ]
  },
  {
   "cell_type": "markdown",
   "metadata": {},
   "source": [
    "## Gradients at faces, net fluxes at cells"
   ]
  },
  {
   "cell_type": "markdown",
   "metadata": {},
   "source": [
    "There are several ways we can go about running the model, and we're going to explore each in turn. Here are some of the factors at play. We have a field of elevation at *all* nodes---that's what we want to track. Some of those nodes, however, are boundary nodes, and should be held fixed (or manipulated independently). Some of the links are inactive. Only the core nodes are subject to change due to fluxes in and out. In any event, we can only really do a mass balance on a cell; a node is just a point. As to fluxes: these depend, of course, on the gradient in *z*. We can compute gradients on *links* or on *faces*. The two are nearly identical---both are gradients between values at the nodes on either side of a link---but they differ in array length. A calculation done on links is NL (number of links) long (17 in the case of a 3x4 grid); one done on faces is NF (number of faces) long (7 for a 3x4 grid). Note that the number of faces is equal to the number of *interior links*.\n",
    "\n",
    "The upshot, then, is that we'll start with an example that calculates gradient on *faces*. Since LL at this writing doesn't have a face-gradient method (I don't think), we'll define one:"
   ]
  },
  {
   "cell_type": "code",
   "execution_count": 144,
   "metadata": {
    "collapsed": true
   },
   "outputs": [],
   "source": [
    "def calculate_gradients_at_faces(grid, node_values):\n",
    "    \"\"\"\n",
    "    Given array of values at nodes, calculate gradients across corresponding cell faces.\n",
    "    \n",
    "    Notes\n",
    "    -----\n",
    "    - Requires 3 instances of fancy indexing\n",
    "    - link_at_face is currently a method rather than a property\n",
    "    \"\"\"\n",
    "    laf = grid.link_at_face\n",
    "    gaf = (node_values[grid.node_at_link_head[laf]] - \\\n",
    "           node_values[grid.node_at_link_tail[laf]]) / grid.link_length[laf]\n",
    "    return gaf"
   ]
  },
  {
   "cell_type": "markdown",
   "metadata": {},
   "source": [
    "Let's test it. The gradient array should be:\n",
    "`[5, 3.6, 5, -1.4, -3.6, -5, -3.6]`"
   ]
  },
  {
   "cell_type": "code",
   "execution_count": 145,
   "metadata": {
    "collapsed": false
   },
   "outputs": [
    {
     "data": {
      "text/plain": [
       "array([ 5. ,  3.6,  5. , -1.4, -3.6, -5. , -3.6])"
      ]
     },
     "execution_count": 145,
     "metadata": {},
     "output_type": "execute_result"
    }
   ],
   "source": [
    "grad_at_faces = calculate_gradients_at_faces(rg, z)\n",
    "grad_at_faces"
   ]
  },
  {
   "cell_type": "markdown",
   "metadata": {},
   "source": [
    "So now we have an NF-long array of gradients. Let's make a unit flux out of this, by multiplying gradient by -1 (stuff flows down hill):"
   ]
  },
  {
   "cell_type": "code",
   "execution_count": 146,
   "metadata": {
    "collapsed": false
   },
   "outputs": [
    {
     "data": {
      "text/plain": [
       "array([-5. , -3.6, -5. ,  1.4,  3.6,  5. ,  3.6])"
      ]
     },
     "execution_count": 146,
     "metadata": {},
     "output_type": "execute_result"
    }
   ],
   "source": [
    "unit_flux_at_faces = -grad_at_faces\n",
    "unit_flux_at_faces"
   ]
  },
  {
   "cell_type": "markdown",
   "metadata": {},
   "source": [
    "We might alternatively only want to calculate gradients and fluxes at *active faces*, which are faces crossed by an active link. How to get this?"
   ]
  },
  {
   "cell_type": "code",
   "execution_count": 147,
   "metadata": {
    "collapsed": false
   },
   "outputs": [
    {
     "data": {
      "text/plain": [
       "array([0, 1, 2, 3])"
      ]
     },
     "execution_count": 147,
     "metadata": {},
     "output_type": "execute_result"
    }
   ],
   "source": [
    "rg.active_faces"
   ]
  },
  {
   "cell_type": "markdown",
   "metadata": {},
   "source": [
    "The unit flux at active faces should be the same as `unit_flux_at_faces` but with 3 entries zeroed out:"
   ]
  },
  {
   "cell_type": "code",
   "execution_count": 148,
   "metadata": {
    "collapsed": false
   },
   "outputs": [
    {
     "data": {
      "text/plain": [
       "array([-5. , -3.6, -5. ,  1.4,  0. ,  0. ,  0. ])"
      ]
     },
     "execution_count": 148,
     "metadata": {},
     "output_type": "execute_result"
    }
   ],
   "source": [
    "unit_flux_at_active_faces = np.zeros(rg.number_of_faces)\n",
    "unit_flux_at_active_faces[rg.active_faces] = unit_flux_at_faces[rg.active_faces]\n",
    "unit_flux_at_active_faces"
   ]
  },
  {
   "cell_type": "markdown",
   "metadata": {
    "collapsed": true
   },
   "source": [
    "### Net face fluxes at cells\n",
    "\n",
    "Next, let's find the net face fluxes at cells. This is defined as the sum of total inflows and outflows. In order to do this, we need two data structures: *faces_at_cell* and *link_dirs_at_node*. The first is an M x N array of int that contains the IDs of faces at each cell, in counter-clockwise orientation starting with east (raster) or nearest CCW to east (others). Here M is the maximum number of links at a node, which is 4 for raster, 6 for hex, and arbitrary for Voronoi.\n",
    "\n",
    "To get `faces_at_cell`, we first need to create `links_at_node` (and while we're at it, we'll also create `link_dirs_at_node`). That's done with this function:"
   ]
  },
  {
   "cell_type": "code",
   "execution_count": 149,
   "metadata": {
    "collapsed": true
   },
   "outputs": [],
   "source": [
    "def make_links_at_node_array_raster(grid):\n",
    "    \"\"\"Make array with links at each node\n",
    "    \n",
    "    Examples\n",
    "    --------\n",
    "    >>> from landlab import RasterModelGrid\n",
    "    >>> rmg = RasterModelGrid(3, 4)\n",
    "    >>> make_links_at_node_array_raster(rmg)\n",
    "    >>> rmg.gt_links_at_node    \n",
    "    array([[ 0,  1,  2, -1,  7,  8,  9, -1, 14, 15, 16, -1],\n",
    "           [ 3,  4,  5,  6, 10, 11, 12, 13, -1, -1, -1, -1],\n",
    "           [-1,  0,  1,  2, -1,  7,  8,  9, -1, 14, 15, 16],\n",
    "           [-1, -1, -1, -1,  3,  4,  5,  6, 10, 11, 12, 13]], dtype=int32)\n",
    "    >>> rmg.gt_link_dirs_at_node\n",
    "    array([[-1, -1, -1,  0, -1, -1, -1,  0, -1, -1, -1,  0],\n",
    "           [-1, -1, -1, -1, -1, -1, -1, -1,  0,  0,  0,  0],\n",
    "           [ 0,  1,  1,  1,  0,  1,  1,  1,  0,  1,  1,  1],\n",
    "           [ 0,  0,  0,  0,  1,  1,  1,  1,  1,  1,  1,  1]], dtype=int8)\n",
    "    \"\"\"\n",
    "    \n",
    "    # Create arrays for link-at-node information\n",
    "    grid.gt_links_at_node = -np.ones((4, grid.number_of_nodes), dtype=np.int32)\n",
    "    grid.gt_link_dirs_at_node = np.zeros((4, grid.number_of_nodes), dtype=np.int8)\n",
    "    grid.gt_active_link_dirs_at_node = np.zeros((4, grid.number_of_nodes), dtype=np.int8)\n",
    "    grid.gt_num_links_at_node = np.zeros(grid.number_of_nodes, dtype=np.uint8)  # assume <256 links at any node\n",
    "    grid.gt_num_active_links_at_node = np.zeros(grid.number_of_nodes, dtype=np.uint8)  # assume <256 links at any node\n",
    "\n",
    "    num_links_per_row = (grid.number_of_node_columns * 2) - 1\n",
    "\n",
    "    # Sweep over all links\n",
    "    for lk in xrange(grid.number_of_links):\n",
    "\n",
    "        # Find the orientation\n",
    "        is_horiz = (lk % num_links_per_row) < (grid.number_of_node_columns - 1)\n",
    "\n",
    "        # Find the IDs of the tail and head nodes\n",
    "        t = grid.node_at_link_tail[lk]\n",
    "        h = grid.node_at_link_head[lk]\n",
    "\n",
    "        # If the link is horizontal, the index (row) in the links_at_node array\n",
    "        # should be 0 (east) for the tail node, and 2 (west) for the head node.\n",
    "        # If vertical, the index should be 1 (north) for the tail node and\n",
    "        # 3 (south) for the head node.\n",
    "        if is_horiz:\n",
    "            tail_index = 0\n",
    "            head_index = 2\n",
    "        else:\n",
    "            tail_index = 1\n",
    "            head_index = 3\n",
    "\n",
    "        # Add this link to the list for this node, set the direction (outgoing,\n",
    "        # indicated by -1), and increment the number found so far\n",
    "        grid.gt_links_at_node[tail_index][t] = lk\n",
    "        grid.gt_links_at_node[head_index][h] = lk\n",
    "        grid.gt_link_dirs_at_node[tail_index][t] = -1\n",
    "        grid.gt_link_dirs_at_node[head_index][h] = 1\n",
    "        grid.gt_num_links_at_node[h] += 1\n",
    "        grid.gt_num_links_at_node[t] += 1\n"
   ]
  },
  {
   "cell_type": "markdown",
   "metadata": {},
   "source": [
    "In our 3x4 raster grid, the links_at_node array should look like the following. There are N (# nodes) columns and four rows; each row represents a cardinal direction (east, north, west, and south). For example, node 5 is one of only two interior nodes; it is connected to links 8, 11, 7, and 4, on the east, north, west, and south sides, respectively. (Note that unstructured grids will not use cardinal directions, as illustrated later).\n",
    "\n",
    "`array([[ 0,  1,  2, -1,  7,  8,  9, -1, 14, 15, 16, -1],\n",
    "       [ 3,  4,  5,  6, 10, 11, 12, 13, -1, -1, -1, -1],\n",
    "       [-1,  0,  1,  2, -1,  7,  8,  9, -1, 14, 15, 16],\n",
    "       [-1, -1, -1, -1,  3,  4,  5,  6, 10, 11, 12, 13]], dtype=int32)`"
   ]
  },
  {
   "cell_type": "code",
   "execution_count": 150,
   "metadata": {
    "collapsed": false
   },
   "outputs": [
    {
     "data": {
      "text/plain": [
       "array([[ 0,  1,  2, -1,  7,  8,  9, -1, 14, 15, 16, -1],\n",
       "       [ 3,  4,  5,  6, 10, 11, 12, 13, -1, -1, -1, -1],\n",
       "       [-1,  0,  1,  2, -1,  7,  8,  9, -1, 14, 15, 16],\n",
       "       [-1, -1, -1, -1,  3,  4,  5,  6, 10, 11, 12, 13]], dtype=int32)"
      ]
     },
     "execution_count": 150,
     "metadata": {},
     "output_type": "execute_result"
    }
   ],
   "source": [
    "make_links_at_node_array_raster(rg)\n",
    "rg.gt_links_at_node"
   ]
  },
  {
   "cell_type": "markdown",
   "metadata": {},
   "source": [
    "The `link_dirs_at_node` array indicates the direction of each of a node's links relative to the node. For each link and node, an entry of 1 means that link is *entering* the node; in other words, the node is that link's *head*. An entry of -1 means that link is *leaving* the node; the node is that link's *tail*. An entry of zero means that there is no link at this position. For example, node 0 (lower-left corner) has outgoing links on the east and north, but no links on the west or south."
   ]
  },
  {
   "cell_type": "code",
   "execution_count": 151,
   "metadata": {
    "collapsed": false
   },
   "outputs": [
    {
     "data": {
      "text/plain": [
       "array([[-1, -1, -1,  0, -1, -1, -1,  0, -1, -1, -1,  0],\n",
       "       [-1, -1, -1, -1, -1, -1, -1, -1,  0,  0,  0,  0],\n",
       "       [ 0,  1,  1,  1,  0,  1,  1,  1,  0,  1,  1,  1],\n",
       "       [ 0,  0,  0,  0,  1,  1,  1,  1,  1,  1,  1,  1]], dtype=int8)"
      ]
     },
     "execution_count": 151,
     "metadata": {},
     "output_type": "execute_result"
    }
   ],
   "source": [
    "rg.gt_link_dirs_at_node"
   ]
  },
  {
   "cell_type": "markdown",
   "metadata": {},
   "source": [
    "Before we can take the next step, we also need `faces_at_cell`: an M x NC array containing the face IDs at each cell, ordered CCW. The following function creates this. It's been expanded here to illustrate how it works:"
   ]
  },
  {
   "cell_type": "code",
   "execution_count": 152,
   "metadata": {
    "collapsed": false
   },
   "outputs": [],
   "source": [
    "def make_faces_at_cell(grid):\n",
    "    max_num_faces = grid.gt_links_at_node.shape[0]\n",
    "    grid.gt_faces_at_cell = np.zeros((max_num_faces, grid.number_of_cells), dtype=np.int)\n",
    "    fal = grid.face_at_link\n",
    "    print 'Face at link', fal\n",
    "    nac = grid.node_at_cell\n",
    "    print 'Node at cell:', nac\n",
    "    for r in range(max_num_faces):\n",
    "        lanr = grid.gt_links_at_node[r,nac]\n",
    "        print 'Row', r, 'links at these nodes', lanr\n",
    "        grid.gt_faces_at_cell[r,:] = fal[lanr]\n",
    "        print 'Face', r, 'at these cells', fal[lanr]\n",
    "    print grid.gt_faces_at_cell"
   ]
  },
  {
   "cell_type": "code",
   "execution_count": 153,
   "metadata": {
    "collapsed": false
   },
   "outputs": [
    {
     "name": "stdout",
     "output_type": "stream",
     "text": [
      "Face at link [2147483647 2147483647 2147483647 2147483647          0          1\n",
      " 2147483647          2          3          4 2147483647          5\n",
      "          6 2147483647 2147483647 2147483647 2147483647]\n",
      "Node at cell: [5 6]\n",
      "Row 0 links at these nodes [8 9]\n",
      "Face 0 at these cells [3 4]\n",
      "Row 1 links at these nodes [11 12]\n",
      "Face 1 at these cells [5 6]\n",
      "Row 2 links at these nodes [7 8]\n",
      "Face 2 at these cells [2 3]\n",
      "Row 3 links at these nodes [4 5]\n",
      "Face 3 at these cells [0 1]\n",
      "[[3 4]\n",
      " [5 6]\n",
      " [2 3]\n",
      " [0 1]]\n"
     ]
    },
    {
     "data": {
      "text/plain": [
       "array([[3, 4],\n",
       "       [5, 6],\n",
       "       [2, 3],\n",
       "       [0, 1]])"
      ]
     },
     "execution_count": 153,
     "metadata": {},
     "output_type": "execute_result"
    }
   ],
   "source": [
    "make_faces_at_cell(rg)\n",
    "rg.gt_faces_at_cell"
   ]
  },
  {
   "cell_type": "markdown",
   "metadata": {},
   "source": [
    "Now we're ready to define the `net_face_flux_at_cells` method. This is one of a series of similar methods. We assume the caller has given us an array of length NF (number of faces) containing flux per unit face width. The first step is to convert this to total flux by multiplying by face width.\n",
    "\n",
    "Then, for each node, we want to add up the incoming fluxes and subtract the outgoing fluxes. The algorithm does this by iterating over the 4 cardinal directions. In the first iteration, we take the IDs of all nodes' east links (which is row 0 of `links_at_node`. The flux corresponding to these links is `total_flux[links_at_node[0]]`.\n",
    "\n",
    "Wait a minute, I thought we wanted faces, not links? We do, but here's the thing: every face has a corresponding link. We simply need to find those links corresponding to the faces. \n",
    "\n",
    "What if there is no east link at a particular node? Then its entry in `links_at_node` will be -1, which means it will take the value of the last entry in the flux array. That's the wrong flux value, of course, but it does not matter: we multiply each link flux by the corresponding entry in `link_dirs_at_node`. If there is no such link, this value is zero---so whatever "
   ]
  },
  {
   "cell_type": "code",
   "execution_count": 154,
   "metadata": {
    "collapsed": true
   },
   "outputs": [],
   "source": [
    "def net_face_flux_at_cells(grid, unit_flux_at_faces):\n",
    "    total_flux = unit_flux_at_faces * grid.face_width\n",
    "    nffc = np.zeros(grid.number_of_cells)\n",
    "    for r in range(4):\n",
    "        nffc += total_flux[grid.gt_faces_at_cell[r,:]] \\\n",
    "        * grid.gt_link_dirs_at_node[r,grid.node_at_cell]\n",
    "    return nffc"
   ]
  },
  {
   "cell_type": "markdown",
   "metadata": {},
   "source": [
    "We also seem to be missing a `face_width` property, so we'll create that under the assumption node spacing is uniform:"
   ]
  },
  {
   "cell_type": "code",
   "execution_count": 155,
   "metadata": {
    "collapsed": true
   },
   "outputs": [],
   "source": [
    "rg.face_width = rg._dx"
   ]
  },
  {
   "cell_type": "markdown",
   "metadata": {},
   "source": [
    "Now we should have everything needed to run the `net_face_flux_at_cells` function. It ought to return an array with the following values: \n",
    "\n",
    "At cell 0, we have fluxes of: -14 (east), -50 (north), -50 (west), -50 (south), which sums to -164.\n",
    "\n",
    "At cell 1, we have fluxes of: -36 (east), -36 (north), +14 (west), -36 (south), which sums to -94."
   ]
  },
  {
   "cell_type": "code",
   "execution_count": 156,
   "metadata": {
    "collapsed": false
   },
   "outputs": [
    {
     "data": {
      "text/plain": [
       "array([-164.,  -94.])"
      ]
     },
     "execution_count": 156,
     "metadata": {},
     "output_type": "execute_result"
    }
   ],
   "source": [
    "net_face_flux_at_cells(rg, unit_flux_at_faces)"
   ]
  },
  {
   "cell_type": "markdown",
   "metadata": {},
   "source": [
    "### Net active face fluxes at cells\n",
    "\n",
    "If we wanted to work just with active links (treating closed boundaries as walls), we would instead use `unit_flux_at_active_faces`. In this case, with the east and north sides closed, we should get:\n",
    "\n",
    "cell 0: -14 (east) + 0 (north) - 50 (west) - 50 (south) = -114\n",
    "\n",
    "cell 1: 0 (east) + 0 (north) + 14 (west) - 36 (south) = -22"
   ]
  },
  {
   "cell_type": "code",
   "execution_count": 157,
   "metadata": {
    "collapsed": false
   },
   "outputs": [
    {
     "data": {
      "text/plain": [
       "array([-114.,  -22.])"
      ]
     },
     "execution_count": 157,
     "metadata": {},
     "output_type": "execute_result"
    }
   ],
   "source": [
    "net_face_flux_at_cells(rg, unit_flux_at_active_faces)"
   ]
  },
  {
   "cell_type": "markdown",
   "metadata": {},
   "source": [
    "### Face flux divergence at cells\n",
    "\n",
    "Let's pause for some definitions:\n",
    "\n",
    "Let *unit flux*, $q$, be defined as the flow of mass, volume, energy, momentum, etc., per unit time per unit face width. For example, if we're working with volume fluxes, $q$ has dimensions of length squared per time. When defined at a link, it is positive in the direction of the link; when defined at a face, it is positive in the direction of the associated link.\n",
    "\n",
    "*Total flux,* $Q$, is then simply $Q = q W$, where $W$ is the width of a face.\n",
    "\n",
    "*Flux divergence*, $\\nabla q$, at a cell is defined as $\\nabla q = -\\Sigma Q / A_c$, where $\\Sigma$ represents a summation over all the cell's faces (or active faces, as the case may be), and $A_c$ is the surface area of the cell. Notice that if $q$ has dimensions of $L^2/T$, then $\\nabla q$ has dimensions of $L/T$.\n",
    "\n",
    "The minus sign on flux divergence keeps us consistent with standard mathematical usage. \n",
    "\n",
    "So, to find flux divergence at cells, we simply find the total flux and divide by the cell area (and multiply by -1). Here's a function to do this:"
   ]
  },
  {
   "cell_type": "code",
   "execution_count": 158,
   "metadata": {
    "collapsed": true
   },
   "outputs": [],
   "source": [
    "def face_flux_divergence_at_cells(grid, unit_flux_at_faces):\n",
    "    return -net_face_flux_at_cells(grid, unit_flux_at_faces) / grid.area_of_cell"
   ]
  },
  {
   "cell_type": "markdown",
   "metadata": {},
   "source": [
    "In the following example, the result should be 1.64 at cell 0 and 0.94 at cell 1:"
   ]
  },
  {
   "cell_type": "code",
   "execution_count": 159,
   "metadata": {
    "collapsed": false
   },
   "outputs": [
    {
     "data": {
      "text/plain": [
       "array([ 1.64,  0.94])"
      ]
     },
     "execution_count": 159,
     "metadata": {},
     "output_type": "execute_result"
    }
   ],
   "source": [
    "face_flux_divergence_at_cells(rg, unit_flux_at_faces)"
   ]
  },
  {
   "cell_type": "markdown",
   "metadata": {},
   "source": [
    "### Active face flux divergence at cells\n",
    "\n",
    "This is the same as \"all face\" flux divergence, except we use a unit flux array that has zeros at the inactive faces. The answer should be 1.14 at cell zero, and 0.22 at cell 1:"
   ]
  },
  {
   "cell_type": "code",
   "execution_count": 160,
   "metadata": {
    "collapsed": false
   },
   "outputs": [
    {
     "data": {
      "text/plain": [
       "array([ 1.14,  0.22])"
      ]
     },
     "execution_count": 160,
     "metadata": {},
     "output_type": "execute_result"
    }
   ],
   "source": [
    "face_flux_divergence_at_cells(rg, unit_flux_at_active_faces)"
   ]
  },
  {
   "cell_type": "markdown",
   "metadata": {
    "collapsed": true
   },
   "source": [
    "## Diffusion model: raster grid, fluxes at faces, divergence at cells"
   ]
  },
  {
   "cell_type": "markdown",
   "metadata": {},
   "source": [
    "So now we'll test out using these algorithms repeatedly in a diffusion calculation. Same grid, same initial conditions."
   ]
  },
  {
   "cell_type": "code",
   "execution_count": 161,
   "metadata": {
    "collapsed": false
   },
   "outputs": [],
   "source": [
    "D = 0.01\n",
    "niter = 10000\n",
    "dt = 0.0001  # way tinier than it needs to be, just for performance testing"
   ]
  },
  {
   "cell_type": "code",
   "execution_count": 162,
   "metadata": {
    "collapsed": false
   },
   "outputs": [
    {
     "name": "stdout",
     "output_type": "stream",
     "text": [
      "[  0.   0.   0.   0.   0.  50.  36.   0.   0.   0.   0.   0.]\n",
      "[  0.           0.           0.           0.           0.          48.3877612\n",
      "  35.07055093   0.           0.           0.           0.           0.        ]\n",
      "0.0916630983353\n"
     ]
    }
   ],
   "source": [
    "import time\n",
    "print(z)\n",
    "start_time = time.time()\n",
    "for i in range(10000):\n",
    "    g = calculate_gradients_at_faces(rg, z)\n",
    "    q = -g\n",
    "    dq = face_flux_divergence_at_cells(rg, q)\n",
    "    z[rg.node_at_cell] -= dq*dt\n",
    "end_time = time.time()\n",
    "print(z)\n",
    "print(1000*(end_time-start_time)/niter)"
   ]
  },
  {
   "cell_type": "markdown",
   "metadata": {},
   "source": [
    "Last time I ran this it took about 0.07 ms per iteration. For completeness, we'll try an active-face version:"
   ]
  },
  {
   "cell_type": "code",
   "execution_count": 163,
   "metadata": {
    "collapsed": false
   },
   "outputs": [
    {
     "name": "stdout",
     "output_type": "stream",
     "text": [
      "[  0.           0.           0.           0.           0.          48.87582825\n",
      "  35.77657619   0.           0.           0.           0.           0.        ]\n",
      "0.0686928987503\n"
     ]
    }
   ],
   "source": [
    "z[5] = 50.\n",
    "z[6] = 36.\n",
    "import time\n",
    "start_time = time.time()\n",
    "q = rg.zeros(centering='face')\n",
    "fal = rg.face_at_link  # would be easier if this were a property\n",
    "af = fal[rg.active_links]  # we apparently don't have active_faces\n",
    "for i in range(niter):\n",
    "    g = calculate_gradients_at_faces(rg, z)\n",
    "    q[af] = -g[af]\n",
    "    dq = face_flux_divergence_at_cells(rg, q)\n",
    "    z[rg.node_at_cell] -= dq*dt\n",
    "end_time = time.time()\n",
    "print(z)\n",
    "print(1000*(end_time-start_time)/niter)"
   ]
  },
  {
   "cell_type": "markdown",
   "metadata": {},
   "source": [
    "So, based on the last time I ran this example, the two versions have about the same speed."
   ]
  },
  {
   "cell_type": "markdown",
   "metadata": {},
   "source": [
    "# Hex grid examples: faces and cells"
   ]
  },
  {
   "cell_type": "markdown",
   "metadata": {},
   "source": [
    "This next section repeats the previous one but for a hex grid (as an example of a Voronoi)."
   ]
  },
  {
   "cell_type": "code",
   "execution_count": 164,
   "metadata": {
    "collapsed": true
   },
   "outputs": [],
   "source": [
    "from landlab import HexModelGrid"
   ]
  },
  {
   "cell_type": "code",
   "execution_count": 165,
   "metadata": {
    "collapsed": false
   },
   "outputs": [
    {
     "name": "stdout",
     "output_type": "stream",
     "text": [
      "[  0.   0.   0.   0.  50.  36.   0.   0.   0.   0.   0.   0.]\n"
     ]
    }
   ],
   "source": [
    "hg = HexModelGrid(3, 3, 10.0)\n",
    "z = rg.add_zeros('node', 'topographic__elevation')\n",
    "z[4] = 50.\n",
    "z[5] = 36.\n",
    "rg.set_closed_nodes([6, 7, 8, 9])\n",
    "print(z)"
   ]
  },
  {
   "cell_type": "markdown",
   "metadata": {},
   "source": [
    "The first problem we encounter is that for generic grids, unlike raster grids, `link_at_face` is a property rather than plain method (i.e., it's a method with a @property tag). We can fix this by redefining the gradient function slightly.\n",
    "\n",
    "Once that's fixed, we can test the gradient function. The gradients should be:\n",
    "\n",
    "`[5, 5, 3.6, 3.6, 5, -1.4, -3.6, -5, -5, -3.6, -3.6]`"
   ]
  },
  {
   "cell_type": "code",
   "execution_count": 166,
   "metadata": {
    "collapsed": true
   },
   "outputs": [],
   "source": [
    "    def gt_setup_link_and_face_temp(grid):\n",
    "        \"\"\"Set up link_at_face and face_at_link arrays.\n",
    "        \"\"\"\n",
    "        from landlab import BAD_INDEX_VALUE\n",
    "        grid._face_at_link = np.zeros(grid.number_of_links, dtype=int)\n",
    "        grid._face_at_link[:] = BAD_INDEX_VALUE\n",
    "        grid._num_faces = len(grid.face_width)\n",
    "        grid._link_at_face = np.zeros(grid._num_faces, dtype=int)\n",
    "        face_id = 0\n",
    "        for link in range(grid.number_of_links):\n",
    "            tc = grid.cell_at_node[grid.node_at_link_tail[link]]\n",
    "            hc = grid.cell_at_node[grid.node_at_link_head[link]]\n",
    "            if tc != BAD_INDEX_VALUE or hc != BAD_INDEX_VALUE:\n",
    "                grid._face_at_link[link] = face_id\n",
    "                grid._link_at_face[face_id] = link\n",
    "                face_id += 1"
   ]
  },
  {
   "cell_type": "code",
   "execution_count": 167,
   "metadata": {
    "collapsed": false
   },
   "outputs": [],
   "source": [
    "gt_setup_link_and_face_temp(hg)"
   ]
  },
  {
   "cell_type": "code",
   "execution_count": 168,
   "metadata": {
    "collapsed": false
   },
   "outputs": [
    {
     "data": {
      "text/plain": [
       "array([ 5. ,  5. ,  3.6,  3.6,  5. , -1.4, -3.6, -5. , -5. , -3.6, -3.6])"
      ]
     },
     "execution_count": 168,
     "metadata": {},
     "output_type": "execute_result"
    }
   ],
   "source": [
    "g = calculate_gradients_at_faces(hg, z)\n",
    "g"
   ]
  },
  {
   "cell_type": "code",
   "execution_count": 169,
   "metadata": {
    "collapsed": false
   },
   "outputs": [],
   "source": [
    "hg.set_closed_nodes([6, 7, 8, 9])"
   ]
  },
  {
   "cell_type": "code",
   "execution_count": 170,
   "metadata": {
    "collapsed": false
   },
   "outputs": [
    {
     "data": {
      "text/plain": [
       "array([-5. , -5. , -3.6, -3.6, -5. ,  1.4,  3.6,  5. ,  5. ,  3.6,  3.6])"
      ]
     },
     "execution_count": 170,
     "metadata": {},
     "output_type": "execute_result"
    }
   ],
   "source": [
    "unit_flux_at_faces = -g\n",
    "unit_flux_at_faces"
   ]
  },
  {
   "cell_type": "markdown",
   "metadata": {},
   "source": [
    "### Net face fluxes at cells\n",
    "\n",
    "Again, we'll need `links_at_node` and `faces_at_cell`, this time for a Voronoi grid. To make these, we need to know the maximum number of links at each node. Here's a function to do this."
   ]
  },
  {
   "cell_type": "code",
   "execution_count": 171,
   "metadata": {
    "collapsed": false
   },
   "outputs": [],
   "source": [
    "def find_number_of_links_per_node(grid):\n",
    "    \"\"\"Find and record how many links are attached to each node.\"\"\"\n",
    "    grid._number_of_links_per_node = np.zeros(grid.number_of_nodes, dtype=np.int)\n",
    "    for ln in range(grid.number_of_links):\n",
    "        grid._number_of_links_per_node[grid.node_at_link_tail[ln]] += 1\n",
    "        grid._number_of_links_per_node[grid.node_at_link_head[ln]] += 1"
   ]
  },
  {
   "cell_type": "code",
   "execution_count": 172,
   "metadata": {
    "collapsed": false
   },
   "outputs": [],
   "source": [
    "# when made a member of grid, should be a property\n",
    "def number_of_links_per_node(grid):\n",
    "    try:\n",
    "        return grid._number_of_links_per_node\n",
    "    except AttributeError:\n",
    "        find_number_of_links_per_node(grid)\n",
    "        return grid._number_of_links_per_node"
   ]
  },
  {
   "cell_type": "code",
   "execution_count": 173,
   "metadata": {
    "collapsed": false
   },
   "outputs": [
    {
     "data": {
      "text/plain": [
       "array([3, 4, 3, 3, 6, 6, 3, 3, 4, 3])"
      ]
     },
     "execution_count": 173,
     "metadata": {},
     "output_type": "execute_result"
    }
   ],
   "source": [
    "nlpn = number_of_links_per_node(hg)\n",
    "nlpn"
   ]
  },
  {
   "cell_type": "code",
   "execution_count": 174,
   "metadata": {
    "collapsed": true
   },
   "outputs": [],
   "source": [
    "def make_links_at_node_array_general(grid):\n",
    "    \"\"\"Make array with links at each node\n",
    "    \"\"\"\n",
    "    # Find maximum number of links per node\n",
    "    nlpn = number_of_links_per_node(grid)   #this fn should become member and property\n",
    "    max_num_links = np.amax(nlpn)\n",
    "    nlpn[:] = 0  # we'll zero it out, then rebuild it\n",
    "\n",
    "    #for later examples:\n",
    "    # nlpn should be [3 4 3 3 6 6 3 3 4 3] and max should be 6\n",
    "    \n",
    "    # Create arrays for link-at-node information\n",
    "    grid.gt_links_at_node = -np.ones((max_num_links, grid.number_of_nodes), dtype=np.int32)\n",
    "    grid.gt_link_dirs_at_node = np.zeros((max_num_links, grid.number_of_nodes), dtype=np.int8)\n",
    "    grid.gt_active_link_dirs_at_node = np.zeros((max_num_links, grid.number_of_nodes), dtype=np.int8)\n",
    "    grid.gt_num_active_links_at_node = np.zeros(grid.number_of_nodes, dtype=np.uint8)  # assume <256 links at any node\n",
    "\n",
    "    # Sweep over all links\n",
    "    for lk in xrange(grid.number_of_links):\n",
    "\n",
    "        # Find the IDs of the tail and head nodes\n",
    "        t = grid.node_at_link_tail[lk]\n",
    "        h = grid.node_at_link_head[lk]\n",
    "\n",
    "        # Add this link to the list for this node, set the direction (outgoing,\n",
    "        # indicated by -1), and increment the number found so far\n",
    "        grid.gt_links_at_node[nlpn[t]][t] = lk\n",
    "        grid.gt_links_at_node[nlpn[h]][h] = lk\n",
    "        grid.gt_link_dirs_at_node[nlpn[t]][t] = -1\n",
    "        grid.gt_link_dirs_at_node[nlpn[h]][h] = 1\n",
    "        nlpn[t] += 1\n",
    "        nlpn[h] += 1"
   ]
  },
  {
   "cell_type": "code",
   "execution_count": 175,
   "metadata": {
    "collapsed": false
   },
   "outputs": [
    {
     "data": {
      "text/plain": [
       "array([[ 0,  0,  1,  2,  3,  5,  7, 11, 13, 15],\n",
       "       [ 2,  1,  6,  8,  4,  6, 10, 12, 14, 16],\n",
       "       [ 3,  4,  7, 11,  8,  9, 16, 17, 17, 18],\n",
       "       [-1,  5, -1, -1,  9, 10, -1, -1, 18, -1],\n",
       "       [-1, -1, -1, -1, 12, 14, -1, -1, -1, -1],\n",
       "       [-1, -1, -1, -1, 13, 15, -1, -1, -1, -1]], dtype=int32)"
      ]
     },
     "execution_count": 175,
     "metadata": {},
     "output_type": "execute_result"
    }
   ],
   "source": [
    "make_links_at_node_array_general(hg)\n",
    "hg.gt_links_at_node"
   ]
  },
  {
   "cell_type": "code",
   "execution_count": 176,
   "metadata": {
    "collapsed": false
   },
   "outputs": [
    {
     "data": {
      "text/plain": [
       "array([[-1,  1,  1,  1,  1,  1,  1,  1,  1,  1],\n",
       "       [-1, -1, -1, -1,  1,  1,  1,  1,  1,  1],\n",
       "       [-1, -1, -1, -1,  1,  1, -1, -1,  1,  1],\n",
       "       [ 0, -1,  0,  0, -1, -1,  0,  0, -1,  0],\n",
       "       [ 0,  0,  0,  0, -1, -1,  0,  0,  0,  0],\n",
       "       [ 0,  0,  0,  0, -1, -1,  0,  0,  0,  0]], dtype=int8)"
      ]
     },
     "execution_count": 176,
     "metadata": {},
     "output_type": "execute_result"
    }
   ],
   "source": [
    "hg.gt_link_dirs_at_node"
   ]
  },
  {
   "cell_type": "code",
   "execution_count": 177,
   "metadata": {
    "collapsed": false
   },
   "outputs": [
    {
     "data": {
      "text/plain": [
       "19"
      ]
     },
     "execution_count": 177,
     "metadata": {},
     "output_type": "execute_result"
    }
   ],
   "source": [
    "hg.number_of_links"
   ]
  },
  {
   "cell_type": "markdown",
   "metadata": {
    "collapsed": true
   },
   "source": [
    "### Sorting node links (and ultimately neighbors) by angle\n",
    "We would ideally like to have `link_at_node`, `link_dir_at_node`, and `neighbor_at_node` (and any others like this) sorted in counter-clockwise order starting from \"horizontal\" (positive *x* axis). This section assembles the ingredients for this."
   ]
  },
  {
   "cell_type": "code",
   "execution_count": 178,
   "metadata": {
    "collapsed": false
   },
   "outputs": [
    {
     "data": {
      "text/plain": [
       "array([ -0., -30., -45., -60., -90.])"
      ]
     },
     "execution_count": 178,
     "metadata": {},
     "output_type": "execute_result"
    }
   ],
   "source": [
    "# The numpy arctan2 function tells us the angle of a ray from origin to given point(s)\n",
    "x = np.array([1.0, 3.0*3.0**0.5, 1.0, 3.0, 0.0])\n",
    "y = np.array([0.0, 3.0, 1.0, 3.0*3.0**0.5, 1.0])\n",
    "ang = np.arctan2(-y, x)\n",
    "180*ang/np.pi"
   ]
  },
  {
   "cell_type": "code",
   "execution_count": 189,
   "metadata": {
    "collapsed": true
   },
   "outputs": [],
   "source": [
    "def link_angle(grid, links, dirs):\n",
    "    \"\"\"Find and return the angle of link(s) in given direction.\n",
    "    \n",
    "    Parameters\n",
    "    ----------\n",
    "    grid : ModelGrid object\n",
    "        reference to the grid\n",
    "    links : 1d numpy array\n",
    "        one or more link IDs\n",
    "    dirs : 1d numpy array (must be same length as links)\n",
    "        direction of links relative to node: +1 means head is origin;\n",
    "        -1 means tail is origin.\n",
    "    \n",
    "    Notes\n",
    "    -----\n",
    "    dx and dy are the x and y differences between the link endpoints. \n",
    "    Multiplying this by dirs orients these offsets correctly (i.e.,\n",
    "    the correct node is the origin). The call to arctan2 calculates\n",
    "    the angle in radians. Angles in the lower two quadrants will be\n",
    "    negative and clockwise from the positive x axis. We want them\n",
    "    counter-clockwise, which is what the last couple of lines before\n",
    "    the return statement do.\n",
    "    \"\"\"\n",
    "    dx = -dirs * (grid.node_x[grid.node_at_link_head[links]] - grid.node_x[grid.node_at_link_tail[links]])\n",
    "    dy = -dirs * (grid.node_y[grid.node_at_link_head[links]] - grid.node_y[grid.node_at_link_tail[links]])\n",
    "    ang = np.arctan2(dy, dx)\n",
    "    (lower_two_quads, ) = np.where(ang<0.0)\n",
    "    ang[lower_two_quads] = (2 * np.pi) + ang[lower_two_quads]\n",
    "    (no_link, ) = np.where(dirs == 0)\n",
    "    ang[no_link] = 2*np.pi\n",
    "    return ang"
   ]
  },
  {
   "cell_type": "markdown",
   "metadata": {},
   "source": [
    "Test 1: for node 4 of our 3x3 hex grid, there should be 6 links with angles 240, 300, 180, 0, 120, and 60 degrees."
   ]
  },
  {
   "cell_type": "code",
   "execution_count": 190,
   "metadata": {
    "collapsed": false
   },
   "outputs": [
    {
     "data": {
      "text/plain": [
       "array([ 240.,  300.,  180.,    0.,  120.,   60.])"
      ]
     },
     "execution_count": 190,
     "metadata": {},
     "output_type": "execute_result"
    }
   ],
   "source": [
    "180*link_angle(hg, hg.gt_links_at_node[:,4], hg.gt_link_dirs_at_node[:,4]) / np.pi"
   ]
  },
  {
   "cell_type": "markdown",
   "metadata": {},
   "source": [
    "Test 2: angle should be $2\\pi$ where there is no link (indicated by dir==0). This serves to force no-link entries to the end of the array."
   ]
  },
  {
   "cell_type": "code",
   "execution_count": 192,
   "metadata": {
    "collapsed": false
   },
   "outputs": [
    {
     "data": {
      "text/plain": [
       "array([ 240.,  180.,  120.,  360.,  360.,  360.])"
      ]
     },
     "execution_count": 192,
     "metadata": {},
     "output_type": "execute_result"
    }
   ],
   "source": [
    "180*link_angle(hg, hg.gt_links_at_node[:,6], hg.gt_link_dirs_at_node[:,6]) / np.pi"
   ]
  },
  {
   "cell_type": "markdown",
   "metadata": {},
   "source": [
    "### Sorting links at node by link angle"
   ]
  },
  {
   "cell_type": "code",
   "execution_count": 195,
   "metadata": {
    "collapsed": true
   },
   "outputs": [],
   "source": [
    "def sort_links_at_node_by_angle(grid):\n",
    "    \"\"\"Sort the links_at_node and link_dirs_at_node arrays by angle.\n",
    "    \"\"\"\n",
    "    for n in range(grid.number_of_nodes):\n",
    "        ang = link_angle(grid, grid.gt_links_at_node[:,n], grid.gt_link_dirs_at_node[:,n])\n",
    "        indices = np.argsort(ang)\n",
    "        grid.gt_links_at_node[:,n] = grid.gt_links_at_node[indices,n]\n",
    "        grid.gt_link_dirs_at_node[:,n] = grid.gt_link_dirs_at_node[indices,n]"
   ]
  },
  {
   "cell_type": "markdown",
   "metadata": {},
   "source": [
    "Test: our (3, 3) hex grid should now have links_at_node that looks like this:\n",
    "\n",
    "`array([[ 0,  1,  7,  8,  9, 10, 16, 17, 18, 18],\n",
    "       [ 3,  5,  6, 11, 13, 15, 10, 11, 17, 15],\n",
    "       [ 2,  4,  1,  2, 12, 14,  7, 12, 13, 16],\n",
    "       [-1,  0, -1, -1,  8,  9, -1, -1, 14, -1],\n",
    "       [-1, -1, -1, -1,  3,  5, -1, -1, -1, -1],\n",
    "       [-1, -1, -1, -1,  4,  6, -1, -1, -1, -1]], dtype=int32)`"
   ]
  },
  {
   "cell_type": "code",
   "execution_count": 197,
   "metadata": {
    "collapsed": false
   },
   "outputs": [
    {
     "data": {
      "text/plain": [
       "array([[ 0,  1,  7,  8,  9, 10, 16, 17, 18, 18],\n",
       "       [ 3,  5,  6, 11, 13, 15, 10, 11, 17, 15],\n",
       "       [ 2,  4,  1,  2, 12, 14,  7, 12, 13, 16],\n",
       "       [-1,  0, -1, -1,  8,  9, -1, -1, 14, -1],\n",
       "       [-1, -1, -1, -1,  3,  5, -1, -1, -1, -1],\n",
       "       [-1, -1, -1, -1,  4,  6, -1, -1, -1, -1]], dtype=int32)"
      ]
     },
     "execution_count": 197,
     "metadata": {},
     "output_type": "execute_result"
    }
   ],
   "source": [
    "hg.gt_links_at_node"
   ]
  },
  {
   "cell_type": "markdown",
   "metadata": {},
   "source": [
    "Link directions should look like this:\n",
    "\n",
    "`array([[-1, -1, -1, -1, -1, -1, -1, -1, -1,  1],\n",
    "       [-1, -1, -1, -1, -1, -1,  1,  1,  1,  1],\n",
    "       [-1, -1,  1,  1, -1, -1,  1,  1,  1,  1],\n",
    "       [ 0,  1,  0,  0,  1,  1,  0,  0,  1,  0],\n",
    "       [ 0,  0,  0,  0,  1,  1,  0,  0,  0,  0],\n",
    "       [ 0,  0,  0,  0,  1,  1,  0,  0,  0,  0]], dtype=int8)`"
   ]
  },
  {
   "cell_type": "code",
   "execution_count": 198,
   "metadata": {
    "collapsed": false
   },
   "outputs": [
    {
     "data": {
      "text/plain": [
       "array([[-1, -1, -1, -1, -1, -1, -1, -1, -1,  1],\n",
       "       [-1, -1, -1, -1, -1, -1,  1,  1,  1,  1],\n",
       "       [-1, -1,  1,  1, -1, -1,  1,  1,  1,  1],\n",
       "       [ 0,  1,  0,  0,  1,  1,  0,  0,  1,  0],\n",
       "       [ 0,  0,  0,  0,  1,  1,  0,  0,  0,  0],\n",
       "       [ 0,  0,  0,  0,  1,  1,  0,  0,  0,  0]], dtype=int8)"
      ]
     },
     "execution_count": 198,
     "metadata": {},
     "output_type": "execute_result"
    }
   ],
   "source": [
    "hg.gt_link_dirs_at_node"
   ]
  },
  {
   "cell_type": "code",
   "execution_count": null,
   "metadata": {
    "collapsed": true
   },
   "outputs": [],
   "source": []
  }
 ],
 "metadata": {
  "kernelspec": {
   "display_name": "Python 2",
   "language": "python",
   "name": "python2"
  },
  "language_info": {
   "codemirror_mode": {
    "name": "ipython",
    "version": 2
   },
   "file_extension": ".py",
   "mimetype": "text/x-python",
   "name": "python",
   "nbconvert_exporter": "python",
   "pygments_lexer": "ipython2",
   "version": "2.7.11"
  }
 },
 "nbformat": 4,
 "nbformat_minor": 0
}
